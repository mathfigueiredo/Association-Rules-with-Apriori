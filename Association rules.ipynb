{
 "cells": [
  {
   "cell_type": "markdown",
   "id": "2bd1f938",
   "metadata": {},
   "source": [
    "# Understanding the apriori algorithm"
   ]
  },
  {
   "cell_type": "markdown",
   "id": "c917633c",
   "metadata": {},
   "source": [
    "Let's study three key concepts that we'll need to have our algorithm working well:\n",
    "<br>\n",
    "First, We need to define our **support**. In our example (supermarket analysis), it corresponds to the percentage (%) of times a product or a combination of products is bought. When we define a support, we are removing from our rules all the products and the combinations that appear less than our defined support.<br><br>\n",
    "Imagine that we have 10 customers.<br>\n",
    "- 4 of them bought coffee -> coffee support is 0.4<br>\n",
    "- 3 of those 4 also bought bread -> coffee and bread (together) support is 0.3<br>\n",
    "- 2 customers bought milk -> milk support is 0.2<br><br>\n",
    "\n",
    "Alright, if we define that our support is going to be 0.3, we are including (coffee) and (coffee + bread) in our rules, but removing milk of it.<br><br>\n",
    "\n",
    "The second parameter we need to define is the **confidence**. In our example:<br>\n",
    "- If buy cofee, then buy bread -> 3/4 = 0.75 (because we got 4 coffee buyers and 3 of them also got bread)\n",
    "- If buy bread, then buy coffee -> 3/3 = 1.0 (because everybody who bought bread, also bought coffee).\n",
    "<br><br>\n",
    "When we define our confidence as 0.8, we are excluding erverything below it from our rules.<br><br>\n",
    "\n",
    "The last key concept we need to know about is the **lift**. It is the confidence of (A -> B) divided by the support of (B):<br>\n",
    "- Confidence of (coffee -> bread) = 0.75\n",
    "- Support of (bread) = 3/10 (3 customers got bread in a total of 10 customers)\n",
    "- So, the lift for this combination is 0.75 / 0.3 = 2.5<br><br>\n",
    "But what it means?<br>\n",
    "It means that if a customer buy coffee (A), he/she has 2.5 more chances of buying bread (B)<br><br>\n",
    "Okay, sorry for that long theoretical exposition, but I think this is really important. Let's get our algo finally working...\n",
    "\n"
   ]
  },
  {
   "cell_type": "markdown",
   "id": "333fbf13",
   "metadata": {},
   "source": [
    "# Importing required modules"
   ]
  },
  {
   "cell_type": "code",
   "execution_count": 1,
   "id": "4fc95cd2",
   "metadata": {},
   "outputs": [],
   "source": [
    "import pandas as pd\n",
    "from apyori import apriori"
   ]
  },
  {
   "cell_type": "markdown",
   "id": "08c3a678",
   "metadata": {},
   "source": [
    "# 1. Loading our dataset"
   ]
  },
  {
   "cell_type": "code",
   "execution_count": 2,
   "id": "c74659f2",
   "metadata": {},
   "outputs": [],
   "source": [
    "df = pd.read_csv('market_df.csv', header=None)"
   ]
  },
  {
   "cell_type": "code",
   "execution_count": 3,
   "id": "84ae80c8",
   "metadata": {},
   "outputs": [
    {
     "data": {
      "text/html": [
       "<div>\n",
       "<style scoped>\n",
       "    .dataframe tbody tr th:only-of-type {\n",
       "        vertical-align: middle;\n",
       "    }\n",
       "\n",
       "    .dataframe tbody tr th {\n",
       "        vertical-align: top;\n",
       "    }\n",
       "\n",
       "    .dataframe thead th {\n",
       "        text-align: right;\n",
       "    }\n",
       "</style>\n",
       "<table border=\"1\" class=\"dataframe\">\n",
       "  <thead>\n",
       "    <tr style=\"text-align: right;\">\n",
       "      <th></th>\n",
       "      <th>0</th>\n",
       "      <th>1</th>\n",
       "      <th>2</th>\n",
       "      <th>3</th>\n",
       "      <th>4</th>\n",
       "      <th>5</th>\n",
       "      <th>6</th>\n",
       "      <th>7</th>\n",
       "      <th>8</th>\n",
       "      <th>9</th>\n",
       "      <th>10</th>\n",
       "      <th>11</th>\n",
       "      <th>12</th>\n",
       "      <th>13</th>\n",
       "      <th>14</th>\n",
       "      <th>15</th>\n",
       "      <th>16</th>\n",
       "      <th>17</th>\n",
       "      <th>18</th>\n",
       "      <th>19</th>\n",
       "    </tr>\n",
       "  </thead>\n",
       "  <tbody>\n",
       "    <tr>\n",
       "      <th>0</th>\n",
       "      <td>shrimp</td>\n",
       "      <td>almonds</td>\n",
       "      <td>avocado</td>\n",
       "      <td>vegetables mix</td>\n",
       "      <td>green grapes</td>\n",
       "      <td>whole weat flour</td>\n",
       "      <td>yams</td>\n",
       "      <td>cottage cheese</td>\n",
       "      <td>energy drink</td>\n",
       "      <td>tomato juice</td>\n",
       "      <td>low fat yogurt</td>\n",
       "      <td>green tea</td>\n",
       "      <td>honey</td>\n",
       "      <td>salad</td>\n",
       "      <td>mineral water</td>\n",
       "      <td>salmon</td>\n",
       "      <td>antioxydant juice</td>\n",
       "      <td>frozen smoothie</td>\n",
       "      <td>spinach</td>\n",
       "      <td>olive oil</td>\n",
       "    </tr>\n",
       "    <tr>\n",
       "      <th>1</th>\n",
       "      <td>burgers</td>\n",
       "      <td>meatballs</td>\n",
       "      <td>eggs</td>\n",
       "      <td>NaN</td>\n",
       "      <td>NaN</td>\n",
       "      <td>NaN</td>\n",
       "      <td>NaN</td>\n",
       "      <td>NaN</td>\n",
       "      <td>NaN</td>\n",
       "      <td>NaN</td>\n",
       "      <td>NaN</td>\n",
       "      <td>NaN</td>\n",
       "      <td>NaN</td>\n",
       "      <td>NaN</td>\n",
       "      <td>NaN</td>\n",
       "      <td>NaN</td>\n",
       "      <td>NaN</td>\n",
       "      <td>NaN</td>\n",
       "      <td>NaN</td>\n",
       "      <td>NaN</td>\n",
       "    </tr>\n",
       "    <tr>\n",
       "      <th>2</th>\n",
       "      <td>chutney</td>\n",
       "      <td>NaN</td>\n",
       "      <td>NaN</td>\n",
       "      <td>NaN</td>\n",
       "      <td>NaN</td>\n",
       "      <td>NaN</td>\n",
       "      <td>NaN</td>\n",
       "      <td>NaN</td>\n",
       "      <td>NaN</td>\n",
       "      <td>NaN</td>\n",
       "      <td>NaN</td>\n",
       "      <td>NaN</td>\n",
       "      <td>NaN</td>\n",
       "      <td>NaN</td>\n",
       "      <td>NaN</td>\n",
       "      <td>NaN</td>\n",
       "      <td>NaN</td>\n",
       "      <td>NaN</td>\n",
       "      <td>NaN</td>\n",
       "      <td>NaN</td>\n",
       "    </tr>\n",
       "    <tr>\n",
       "      <th>3</th>\n",
       "      <td>turkey</td>\n",
       "      <td>avocado</td>\n",
       "      <td>NaN</td>\n",
       "      <td>NaN</td>\n",
       "      <td>NaN</td>\n",
       "      <td>NaN</td>\n",
       "      <td>NaN</td>\n",
       "      <td>NaN</td>\n",
       "      <td>NaN</td>\n",
       "      <td>NaN</td>\n",
       "      <td>NaN</td>\n",
       "      <td>NaN</td>\n",
       "      <td>NaN</td>\n",
       "      <td>NaN</td>\n",
       "      <td>NaN</td>\n",
       "      <td>NaN</td>\n",
       "      <td>NaN</td>\n",
       "      <td>NaN</td>\n",
       "      <td>NaN</td>\n",
       "      <td>NaN</td>\n",
       "    </tr>\n",
       "    <tr>\n",
       "      <th>4</th>\n",
       "      <td>mineral water</td>\n",
       "      <td>milk</td>\n",
       "      <td>energy bar</td>\n",
       "      <td>whole wheat rice</td>\n",
       "      <td>green tea</td>\n",
       "      <td>NaN</td>\n",
       "      <td>NaN</td>\n",
       "      <td>NaN</td>\n",
       "      <td>NaN</td>\n",
       "      <td>NaN</td>\n",
       "      <td>NaN</td>\n",
       "      <td>NaN</td>\n",
       "      <td>NaN</td>\n",
       "      <td>NaN</td>\n",
       "      <td>NaN</td>\n",
       "      <td>NaN</td>\n",
       "      <td>NaN</td>\n",
       "      <td>NaN</td>\n",
       "      <td>NaN</td>\n",
       "      <td>NaN</td>\n",
       "    </tr>\n",
       "  </tbody>\n",
       "</table>\n",
       "</div>"
      ],
      "text/plain": [
       "              0          1           2                 3             4   \\\n",
       "0         shrimp    almonds     avocado    vegetables mix  green grapes   \n",
       "1        burgers  meatballs        eggs               NaN           NaN   \n",
       "2        chutney        NaN         NaN               NaN           NaN   \n",
       "3         turkey    avocado         NaN               NaN           NaN   \n",
       "4  mineral water       milk  energy bar  whole wheat rice     green tea   \n",
       "\n",
       "                 5     6               7             8             9   \\\n",
       "0  whole weat flour  yams  cottage cheese  energy drink  tomato juice   \n",
       "1               NaN   NaN             NaN           NaN           NaN   \n",
       "2               NaN   NaN             NaN           NaN           NaN   \n",
       "3               NaN   NaN             NaN           NaN           NaN   \n",
       "4               NaN   NaN             NaN           NaN           NaN   \n",
       "\n",
       "               10         11     12     13             14      15  \\\n",
       "0  low fat yogurt  green tea  honey  salad  mineral water  salmon   \n",
       "1             NaN        NaN    NaN    NaN            NaN     NaN   \n",
       "2             NaN        NaN    NaN    NaN            NaN     NaN   \n",
       "3             NaN        NaN    NaN    NaN            NaN     NaN   \n",
       "4             NaN        NaN    NaN    NaN            NaN     NaN   \n",
       "\n",
       "                  16               17       18         19  \n",
       "0  antioxydant juice  frozen smoothie  spinach  olive oil  \n",
       "1                NaN              NaN      NaN        NaN  \n",
       "2                NaN              NaN      NaN        NaN  \n",
       "3                NaN              NaN      NaN        NaN  \n",
       "4                NaN              NaN      NaN        NaN  "
      ]
     },
     "execution_count": 3,
     "metadata": {},
     "output_type": "execute_result"
    }
   ],
   "source": [
    "df.head()"
   ]
  },
  {
   "cell_type": "markdown",
   "id": "33f7b537",
   "metadata": {},
   "source": [
    "In this dataset, we have 7501 rows. Each of them contains an individual shopping cart that customers bought in this market in a whole week (7 days). i.e.:\n",
    "- The first customer bought **shrimp**, **almomnds**, **avocado** and much more\n",
    "- The second customer bought **burgers**, **meatballs** and **eggs**\n",
    "- The third customer bought only **chutney**\n",
    "- And so forth..."
   ]
  },
  {
   "cell_type": "markdown",
   "id": "31d9fce3",
   "metadata": {},
   "source": [
    "# 2. Preprocessing the data"
   ]
  },
  {
   "cell_type": "markdown",
   "id": "008fb512",
   "metadata": {},
   "source": [
    "It is very important to know that the **apriori** alogorithm requires the input data to be in a list format. So let's get it done now..."
   ]
  },
  {
   "cell_type": "code",
   "execution_count": 4,
   "id": "aeff1820",
   "metadata": {},
   "outputs": [],
   "source": [
    "transactions = []\n",
    "for i in range(df.shape[0]):\n",
    "    transactions.append([str(df.values[i, j]) for j in range(df.shape[1])])"
   ]
  },
  {
   "cell_type": "markdown",
   "id": "6b3d0ddd",
   "metadata": {},
   "source": [
    "Now, we have a list of lists! Every single customer is represented by a list. Let's check out the three first customers to have a better understanding of what we are doing"
   ]
  },
  {
   "cell_type": "code",
   "execution_count": 5,
   "id": "d531fbfe",
   "metadata": {},
   "outputs": [
    {
     "data": {
      "text/plain": [
       "['shrimp',\n",
       " 'almonds',\n",
       " 'avocado',\n",
       " 'vegetables mix',\n",
       " 'green grapes',\n",
       " 'whole weat flour',\n",
       " 'yams',\n",
       " 'cottage cheese',\n",
       " 'energy drink',\n",
       " 'tomato juice',\n",
       " 'low fat yogurt',\n",
       " 'green tea',\n",
       " 'honey',\n",
       " 'salad',\n",
       " 'mineral water',\n",
       " 'salmon',\n",
       " 'antioxydant juice',\n",
       " 'frozen smoothie',\n",
       " 'spinach',\n",
       " 'olive oil']"
      ]
     },
     "execution_count": 5,
     "metadata": {},
     "output_type": "execute_result"
    }
   ],
   "source": [
    "# First customer\n",
    "transactions[0]"
   ]
  },
  {
   "cell_type": "code",
   "execution_count": 6,
   "id": "eeb3a7aa",
   "metadata": {},
   "outputs": [
    {
     "data": {
      "text/plain": [
       "['burgers',\n",
       " 'meatballs',\n",
       " 'eggs',\n",
       " 'nan',\n",
       " 'nan',\n",
       " 'nan',\n",
       " 'nan',\n",
       " 'nan',\n",
       " 'nan',\n",
       " 'nan',\n",
       " 'nan',\n",
       " 'nan',\n",
       " 'nan',\n",
       " 'nan',\n",
       " 'nan',\n",
       " 'nan',\n",
       " 'nan',\n",
       " 'nan',\n",
       " 'nan',\n",
       " 'nan']"
      ]
     },
     "execution_count": 6,
     "metadata": {},
     "output_type": "execute_result"
    }
   ],
   "source": [
    "# Second customer\n",
    "transactions[1]"
   ]
  },
  {
   "cell_type": "code",
   "execution_count": 7,
   "id": "88d9350c",
   "metadata": {},
   "outputs": [
    {
     "data": {
      "text/plain": [
       "['chutney',\n",
       " 'nan',\n",
       " 'nan',\n",
       " 'nan',\n",
       " 'nan',\n",
       " 'nan',\n",
       " 'nan',\n",
       " 'nan',\n",
       " 'nan',\n",
       " 'nan',\n",
       " 'nan',\n",
       " 'nan',\n",
       " 'nan',\n",
       " 'nan',\n",
       " 'nan',\n",
       " 'nan',\n",
       " 'nan',\n",
       " 'nan',\n",
       " 'nan',\n",
       " 'nan']"
      ]
     },
     "execution_count": 7,
     "metadata": {},
     "output_type": "execute_result"
    }
   ],
   "source": [
    "# Third customer\n",
    "transactions[2]"
   ]
  },
  {
   "cell_type": "markdown",
   "id": "f2bc805a",
   "metadata": {},
   "source": [
    "# 3. Getting our rules"
   ]
  },
  {
   "cell_type": "markdown",
   "id": "8166c097",
   "metadata": {},
   "source": [
    "First, let's define:<br>\n",
    "- min_support = 0.3\n",
    "- min_confidence = 0.8\n",
    "- min_lift = 2"
   ]
  },
  {
   "cell_type": "code",
   "execution_count": 8,
   "id": "54c35c8d",
   "metadata": {},
   "outputs": [
    {
     "name": "stdout",
     "output_type": "stream",
     "text": [
      "Amount of entries generated: 0\n"
     ]
    }
   ],
   "source": [
    "rules = apriori(transactions, min_support=0.3, min_confidence=0.8, min_lift=3)\n",
    "results = list(rules)\n",
    "print(\"Amount of entries generated: {}\".format(len(results)))"
   ]
  },
  {
   "cell_type": "markdown",
   "id": "b89628c3",
   "metadata": {},
   "source": [
    "It happened because it is nearly impossible to have a support of 30% with many many products. We will never get the same product being bought in 30% of the carts with a large variety of products. So, let's improve our parameters... <br><br>\n",
    "Imagine that we want to get the products which are bought at least 4 times a day. We know that our dataset represents the products sold in a week (7 days), so we can expect to get a product which were bought 28 times in this week (4 times a day).<br><br>\n",
    "\n",
    "Okay, our product was sold at least 28 times out of 7501 shopping carts:"
   ]
  },
  {
   "cell_type": "code",
   "execution_count": 9,
   "id": "7098b448",
   "metadata": {},
   "outputs": [
    {
     "data": {
      "text/plain": [
       "0.0037328356219170776"
      ]
     },
     "execution_count": 9,
     "metadata": {},
     "output_type": "execute_result"
    }
   ],
   "source": [
    "28/7501"
   ]
  },
  {
   "cell_type": "markdown",
   "id": "4229b00d",
   "metadata": {},
   "source": [
    "Great. We can use 0.003 as our support to have some insights!"
   ]
  },
  {
   "cell_type": "code",
   "execution_count": 10,
   "id": "e8e9794d",
   "metadata": {},
   "outputs": [
    {
     "name": "stdout",
     "output_type": "stream",
     "text": [
      "Amount of entries generated: 0\n"
     ]
    }
   ],
   "source": [
    "rules = apriori(transactions, min_support=0.003, min_confidence=0.8, min_lift=3)\n",
    "results = list(rules)\n",
    "print(\"Amount of entries generated: {}\".format(len(results)))"
   ]
  },
  {
   "cell_type": "markdown",
   "id": "6d8e051c",
   "metadata": {},
   "source": [
    "It also generated  no entries, because this time the confidence is too high (0.8). Let's lower it to 0.2"
   ]
  },
  {
   "cell_type": "code",
   "execution_count": 11,
   "id": "b50c7249",
   "metadata": {},
   "outputs": [
    {
     "name": "stdout",
     "output_type": "stream",
     "text": [
      "Amount of entries generated: 160\n"
     ]
    }
   ],
   "source": [
    "rules = apriori(transactions, min_support=0.003, min_confidence=0.2, min_lift=3)\n",
    "results = list(rules)\n",
    "print(\"Amount of entries generated: {}\".format(len(results)))"
   ]
  },
  {
   "cell_type": "markdown",
   "id": "f63b6b92",
   "metadata": {},
   "source": [
    "Looks like the apriori algo generated 160 entries! Let's check it out!"
   ]
  },
  {
   "cell_type": "code",
   "execution_count": 12,
   "id": "a3733403",
   "metadata": {},
   "outputs": [],
   "source": [
    "A = [] # IF\n",
    "B = [] # THEN\n",
    "support = []\n",
    "confidence = []\n",
    "lift = []\n",
    "\n",
    "for result in results:\n",
    "    s = result[1] # support\n",
    "    result_rules = result[2] # all rules\n",
    "    for result_rule in result_rules:\n",
    "        a = list(result_rule[0]) # if\n",
    "        b = list(result_rule[1]) # then\n",
    "        c = result_rule[2] # confidence\n",
    "        l = result_rule[3] # lift\n",
    "#         print ('IF ', a, ', THEN ', b, ' -> confidence: ', c, ' | lift: ', l)\n",
    "        A.append(a)\n",
    "        B.append(b)\n",
    "        support.append(s)\n",
    "        confidence.append(c)\n",
    "        lift.append(l)"
   ]
  },
  {
   "cell_type": "markdown",
   "id": "5f9d33d8",
   "metadata": {},
   "source": [
    "# 4. Generating Pandas DataFrame"
   ]
  },
  {
   "cell_type": "code",
   "execution_count": 13,
   "id": "28db2ede",
   "metadata": {},
   "outputs": [
    {
     "data": {
      "text/html": [
       "<div>\n",
       "<style scoped>\n",
       "    .dataframe tbody tr th:only-of-type {\n",
       "        vertical-align: middle;\n",
       "    }\n",
       "\n",
       "    .dataframe tbody tr th {\n",
       "        vertical-align: top;\n",
       "    }\n",
       "\n",
       "    .dataframe thead th {\n",
       "        text-align: right;\n",
       "    }\n",
       "</style>\n",
       "<table border=\"1\" class=\"dataframe\">\n",
       "  <thead>\n",
       "    <tr style=\"text-align: right;\">\n",
       "      <th></th>\n",
       "      <th>A</th>\n",
       "      <th>B</th>\n",
       "      <th>support</th>\n",
       "      <th>confidence</th>\n",
       "      <th>lift</th>\n",
       "    </tr>\n",
       "  </thead>\n",
       "  <tbody>\n",
       "    <tr>\n",
       "      <th>344</th>\n",
       "      <td>[soup, frozen vegetables]</td>\n",
       "      <td>[nan, milk, mineral water]</td>\n",
       "      <td>0.003066</td>\n",
       "      <td>0.383333</td>\n",
       "      <td>7.987176</td>\n",
       "    </tr>\n",
       "    <tr>\n",
       "      <th>177</th>\n",
       "      <td>[soup, frozen vegetables]</td>\n",
       "      <td>[milk, mineral water]</td>\n",
       "      <td>0.003066</td>\n",
       "      <td>0.383333</td>\n",
       "      <td>7.987176</td>\n",
       "    </tr>\n",
       "    <tr>\n",
       "      <th>349</th>\n",
       "      <td>[nan, soup, frozen vegetables]</td>\n",
       "      <td>[milk, mineral water]</td>\n",
       "      <td>0.003066</td>\n",
       "      <td>0.383333</td>\n",
       "      <td>7.987176</td>\n",
       "    </tr>\n",
       "    <tr>\n",
       "      <th>173</th>\n",
       "      <td>[frozen vegetables, olive oil]</td>\n",
       "      <td>[milk, mineral water]</td>\n",
       "      <td>0.003333</td>\n",
       "      <td>0.294118</td>\n",
       "      <td>6.128268</td>\n",
       "    </tr>\n",
       "    <tr>\n",
       "      <th>339</th>\n",
       "      <td>[nan, frozen vegetables, olive oil]</td>\n",
       "      <td>[milk, mineral water]</td>\n",
       "      <td>0.003333</td>\n",
       "      <td>0.294118</td>\n",
       "      <td>6.128268</td>\n",
       "    </tr>\n",
       "    <tr>\n",
       "      <th>...</th>\n",
       "      <td>...</td>\n",
       "      <td>...</td>\n",
       "      <td>...</td>\n",
       "      <td>...</td>\n",
       "      <td>...</td>\n",
       "    </tr>\n",
       "    <tr>\n",
       "      <th>238</th>\n",
       "      <td>[shrimp, nan, ground beef]</td>\n",
       "      <td>[spaghetti]</td>\n",
       "      <td>0.005999</td>\n",
       "      <td>0.523256</td>\n",
       "      <td>3.005315</td>\n",
       "    </tr>\n",
       "    <tr>\n",
       "      <th>67</th>\n",
       "      <td>[shrimp, ground beef]</td>\n",
       "      <td>[spaghetti]</td>\n",
       "      <td>0.005999</td>\n",
       "      <td>0.523256</td>\n",
       "      <td>3.005315</td>\n",
       "    </tr>\n",
       "    <tr>\n",
       "      <th>198</th>\n",
       "      <td>[tomatoes, frozen vegetables, mineral water]</td>\n",
       "      <td>[spaghetti]</td>\n",
       "      <td>0.003066</td>\n",
       "      <td>0.522727</td>\n",
       "      <td>3.002280</td>\n",
       "    </tr>\n",
       "    <tr>\n",
       "      <th>368</th>\n",
       "      <td>[nan, tomatoes, frozen vegetables, mineral water]</td>\n",
       "      <td>[spaghetti]</td>\n",
       "      <td>0.003066</td>\n",
       "      <td>0.522727</td>\n",
       "      <td>3.002280</td>\n",
       "    </tr>\n",
       "    <tr>\n",
       "      <th>365</th>\n",
       "      <td>[tomatoes, frozen vegetables, mineral water]</td>\n",
       "      <td>[spaghetti, nan]</td>\n",
       "      <td>0.003066</td>\n",
       "      <td>0.522727</td>\n",
       "      <td>3.002280</td>\n",
       "    </tr>\n",
       "  </tbody>\n",
       "</table>\n",
       "<p>390 rows × 5 columns</p>\n",
       "</div>"
      ],
      "text/plain": [
       "                                                     A  \\\n",
       "344                          [soup, frozen vegetables]   \n",
       "177                          [soup, frozen vegetables]   \n",
       "349                     [nan, soup, frozen vegetables]   \n",
       "173                     [frozen vegetables, olive oil]   \n",
       "339                [nan, frozen vegetables, olive oil]   \n",
       "..                                                 ...   \n",
       "238                         [shrimp, nan, ground beef]   \n",
       "67                               [shrimp, ground beef]   \n",
       "198       [tomatoes, frozen vegetables, mineral water]   \n",
       "368  [nan, tomatoes, frozen vegetables, mineral water]   \n",
       "365       [tomatoes, frozen vegetables, mineral water]   \n",
       "\n",
       "                              B   support  confidence      lift  \n",
       "344  [nan, milk, mineral water]  0.003066    0.383333  7.987176  \n",
       "177       [milk, mineral water]  0.003066    0.383333  7.987176  \n",
       "349       [milk, mineral water]  0.003066    0.383333  7.987176  \n",
       "173       [milk, mineral water]  0.003333    0.294118  6.128268  \n",
       "339       [milk, mineral water]  0.003333    0.294118  6.128268  \n",
       "..                          ...       ...         ...       ...  \n",
       "238                 [spaghetti]  0.005999    0.523256  3.005315  \n",
       "67                  [spaghetti]  0.005999    0.523256  3.005315  \n",
       "198                 [spaghetti]  0.003066    0.522727  3.002280  \n",
       "368                 [spaghetti]  0.003066    0.522727  3.002280  \n",
       "365            [spaghetti, nan]  0.003066    0.522727  3.002280  \n",
       "\n",
       "[390 rows x 5 columns]"
      ]
     },
     "execution_count": 13,
     "metadata": {},
     "output_type": "execute_result"
    }
   ],
   "source": [
    "rules_df = pd.DataFrame({'A': A, 'B': B, 'support': support, 'confidence': confidence, 'lift': lift}) \n",
    "rules_df = rules_df.sort_values(by='lift', ascending=False)\n",
    "rules_df"
   ]
  },
  {
   "cell_type": "markdown",
   "id": "9fe4594c",
   "metadata": {},
   "source": [
    "Great. Let's just remove those 'nan' values and duplicated rows"
   ]
  },
  {
   "cell_type": "code",
   "execution_count": 14,
   "id": "0ef718a5",
   "metadata": {},
   "outputs": [],
   "source": [
    "def removenan(x):\n",
    "    if 'nan' in x: x.remove('nan');\n",
    "    x.sort()\n",
    "    return x"
   ]
  },
  {
   "cell_type": "code",
   "execution_count": 15,
   "id": "0ce26ffc",
   "metadata": {},
   "outputs": [],
   "source": [
    "rules_df['A'] = rules_df['A'].apply(lambda x: removenan(x))\n",
    "rules_df['B'] = rules_df['B'].apply(lambda x: removenan(x))\n",
    "rules_df['A'] = rules_df['A'].apply(lambda x: ' & '.join(x))\n",
    "rules_df['B'] = rules_df['B'].apply(lambda x: ' & '.join(x))\n",
    "rules_df.drop_duplicates(subset=['A','B'], keep='first',inplace=True)\n",
    "rules_df.reset_index(drop=True,inplace=True)"
   ]
  },
  {
   "cell_type": "code",
   "execution_count": 16,
   "id": "c45aabd4",
   "metadata": {},
   "outputs": [
    {
     "data": {
      "text/html": [
       "<div>\n",
       "<style scoped>\n",
       "    .dataframe tbody tr th:only-of-type {\n",
       "        vertical-align: middle;\n",
       "    }\n",
       "\n",
       "    .dataframe tbody tr th {\n",
       "        vertical-align: top;\n",
       "    }\n",
       "\n",
       "    .dataframe thead th {\n",
       "        text-align: right;\n",
       "    }\n",
       "</style>\n",
       "<table border=\"1\" class=\"dataframe\">\n",
       "  <thead>\n",
       "    <tr style=\"text-align: right;\">\n",
       "      <th></th>\n",
       "      <th>A</th>\n",
       "      <th>B</th>\n",
       "      <th>support</th>\n",
       "      <th>confidence</th>\n",
       "      <th>lift</th>\n",
       "    </tr>\n",
       "  </thead>\n",
       "  <tbody>\n",
       "    <tr>\n",
       "      <th>0</th>\n",
       "      <td>frozen vegetables &amp; soup</td>\n",
       "      <td>milk &amp; mineral water</td>\n",
       "      <td>0.003066</td>\n",
       "      <td>0.383333</td>\n",
       "      <td>7.987176</td>\n",
       "    </tr>\n",
       "    <tr>\n",
       "      <th>1</th>\n",
       "      <td>frozen vegetables &amp; olive oil</td>\n",
       "      <td>milk &amp; mineral water</td>\n",
       "      <td>0.003333</td>\n",
       "      <td>0.294118</td>\n",
       "      <td>6.128268</td>\n",
       "    </tr>\n",
       "    <tr>\n",
       "      <th>2</th>\n",
       "      <td>mineral water &amp; whole wheat pasta</td>\n",
       "      <td>olive oil</td>\n",
       "      <td>0.003866</td>\n",
       "      <td>0.402778</td>\n",
       "      <td>6.128268</td>\n",
       "    </tr>\n",
       "    <tr>\n",
       "      <th>3</th>\n",
       "      <td>milk &amp; soup</td>\n",
       "      <td>frozen vegetables &amp; mineral water</td>\n",
       "      <td>0.003066</td>\n",
       "      <td>0.201754</td>\n",
       "      <td>5.646864</td>\n",
       "    </tr>\n",
       "    <tr>\n",
       "      <th>4</th>\n",
       "      <td>tomato sauce</td>\n",
       "      <td>ground beef &amp; spaghetti</td>\n",
       "      <td>0.003066</td>\n",
       "      <td>0.216981</td>\n",
       "      <td>5.535971</td>\n",
       "    </tr>\n",
       "    <tr>\n",
       "      <th>...</th>\n",
       "      <td>...</td>\n",
       "      <td>...</td>\n",
       "      <td>...</td>\n",
       "      <td>...</td>\n",
       "      <td>...</td>\n",
       "    </tr>\n",
       "    <tr>\n",
       "      <th>125</th>\n",
       "      <td>chocolate &amp; eggs &amp; mineral water</td>\n",
       "      <td>ground beef</td>\n",
       "      <td>0.003999</td>\n",
       "      <td>0.297030</td>\n",
       "      <td>3.023093</td>\n",
       "    </tr>\n",
       "    <tr>\n",
       "      <th>126</th>\n",
       "      <td>milk &amp; mineral water &amp; spaghetti</td>\n",
       "      <td>frozen vegetables</td>\n",
       "      <td>0.004533</td>\n",
       "      <td>0.288136</td>\n",
       "      <td>3.022804</td>\n",
       "    </tr>\n",
       "    <tr>\n",
       "      <th>127</th>\n",
       "      <td>frozen vegetables &amp; spaghetti</td>\n",
       "      <td>shrimp</td>\n",
       "      <td>0.005999</td>\n",
       "      <td>0.215311</td>\n",
       "      <td>3.018781</td>\n",
       "    </tr>\n",
       "    <tr>\n",
       "      <th>128</th>\n",
       "      <td>ground beef &amp; shrimp</td>\n",
       "      <td>spaghetti</td>\n",
       "      <td>0.005999</td>\n",
       "      <td>0.523256</td>\n",
       "      <td>3.005315</td>\n",
       "    </tr>\n",
       "    <tr>\n",
       "      <th>129</th>\n",
       "      <td>frozen vegetables &amp; mineral water &amp; tomatoes</td>\n",
       "      <td>spaghetti</td>\n",
       "      <td>0.003066</td>\n",
       "      <td>0.522727</td>\n",
       "      <td>3.002280</td>\n",
       "    </tr>\n",
       "  </tbody>\n",
       "</table>\n",
       "<p>130 rows × 5 columns</p>\n",
       "</div>"
      ],
      "text/plain": [
       "                                                A  \\\n",
       "0                        frozen vegetables & soup   \n",
       "1                   frozen vegetables & olive oil   \n",
       "2               mineral water & whole wheat pasta   \n",
       "3                                     milk & soup   \n",
       "4                                    tomato sauce   \n",
       "..                                            ...   \n",
       "125              chocolate & eggs & mineral water   \n",
       "126              milk & mineral water & spaghetti   \n",
       "127                 frozen vegetables & spaghetti   \n",
       "128                          ground beef & shrimp   \n",
       "129  frozen vegetables & mineral water & tomatoes   \n",
       "\n",
       "                                     B   support  confidence      lift  \n",
       "0                 milk & mineral water  0.003066    0.383333  7.987176  \n",
       "1                 milk & mineral water  0.003333    0.294118  6.128268  \n",
       "2                            olive oil  0.003866    0.402778  6.128268  \n",
       "3    frozen vegetables & mineral water  0.003066    0.201754  5.646864  \n",
       "4              ground beef & spaghetti  0.003066    0.216981  5.535971  \n",
       "..                                 ...       ...         ...       ...  \n",
       "125                        ground beef  0.003999    0.297030  3.023093  \n",
       "126                  frozen vegetables  0.004533    0.288136  3.022804  \n",
       "127                             shrimp  0.005999    0.215311  3.018781  \n",
       "128                          spaghetti  0.005999    0.523256  3.005315  \n",
       "129                          spaghetti  0.003066    0.522727  3.002280  \n",
       "\n",
       "[130 rows x 5 columns]"
      ]
     },
     "execution_count": 16,
     "metadata": {},
     "output_type": "execute_result"
    }
   ],
   "source": [
    "rules_df"
   ]
  },
  {
   "cell_type": "markdown",
   "id": "dbe48c98",
   "metadata": {},
   "source": [
    "There it is. Lots of rules with support > 0.003, confidence > 0.2 and lift > 3!<br><br>\n",
    "Enjoy!"
   ]
  },
  {
   "cell_type": "markdown",
   "id": "7ec35381",
   "metadata": {},
   "source": [
    "---"
   ]
  },
  {
   "cell_type": "markdown",
   "id": "088f81c1",
   "metadata": {},
   "source": [
    "Reach me at:\n",
    "- Email: contact@mathfigueiredo.com\n",
    "- Linkedin: https://www.linkedin.in/mathfigueiredo\n",
    "- Portfolio: https://mathfigueiredo.com"
   ]
  }
 ],
 "metadata": {
  "kernelspec": {
   "display_name": "Python 3",
   "language": "python",
   "name": "python3"
  },
  "language_info": {
   "codemirror_mode": {
    "name": "ipython",
    "version": 3
   },
   "file_extension": ".py",
   "mimetype": "text/x-python",
   "name": "python",
   "nbconvert_exporter": "python",
   "pygments_lexer": "ipython3",
   "version": "3.8.8"
  }
 },
 "nbformat": 4,
 "nbformat_minor": 5
}
